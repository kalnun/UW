{
 "cells": [
  {
   "cell_type": "code",
   "execution_count": 3,
   "metadata": {},
   "outputs": [
    {
     "name": "stdout",
     "output_type": "stream",
     "text": [
      "Apple's original stock price was $252.37\n",
      "Apples current stock price is $275.43\n",
      "Apple's original stock price was 109.13737765978524%\n"
     ]
    }
   ],
   "source": [
    "# Percent Increase Bonus Activity\n",
    "\n",
    "# Formulas\n",
    "# Increase = Current Price - Original Price\n",
    "# Percent Increase = Increase / Original x 100\n",
    "\n",
    "# Create float variable for original_price\n",
    "original_price = 252.37\n",
    "\n",
    "# Create float variable for current_price\n",
    "current_price = 275.43\n",
    "\n",
    "# Calculate difference between current_price and original_price\n",
    "increase = current_price - original_price\n",
    "\n",
    "# Calculate percent_increase\n",
    "percent_increase = current_price / original_price * 100\n",
    "\n",
    "# Print original_price\n",
    "print(f\"Apple's original stock price was ${original_price}\")\n",
    "\n",
    "# Print current_price\n",
    "print(f\"Apples current stock price is ${current_price}\")\n",
    "\n",
    "# Print percent_increase\n",
    "print(f\"Apple's original stock price was {percent_increase}%\")"
   ]
  },
  {
   "cell_type": "code",
   "execution_count": 27,
   "metadata": {},
   "outputs": [
    {
     "name": "stdout",
     "output_type": "stream",
     "text": [
      "Question 1 works!\n",
      "Question 2 works!\n",
      "You are of drinking age!\n",
      "GOT QUESTION 4!\n",
      "Can ride bumper cars\n"
     ]
    }
   ],
   "source": [
    "# 1.\n",
    "x = 5\n",
    "y = 10\n",
    "if 2 * x >= 10:\n",
    "    print(\"Question 1 works!\")\n",
    "else:\n",
    "    print(\"Oooo needs some work\")\n",
    "\n",
    "# 2.\n",
    "x = 5\n",
    "y = 10\n",
    "if len(\"Dog\") < x:\n",
    "    print(\"Question 2 works!\")\n",
    "else:\n",
    "    print(\"Still missing out\")\n",
    "\n",
    "# 3.\n",
    "age = 21\n",
    "if age > 20:\n",
    "    print(\"You are of drinking age!\")\n",
    "else:\n",
    "    print(\"Argggggh! You think you can hoodwink me, matey?! You're too young to drink!\")\n",
    "\n",
    "# 4.\n",
    "x = 2\n",
    "y = 5\n",
    "if (x ** 3 >= y) and (y ** 2 < 26):\n",
    "    print(\"GOT QUESTION 4!\")\n",
    "else:\n",
    "    print(\"Oh good you can count\")\n",
    "\n",
    "# 5.\n",
    "height = 66\n",
    "age = 16\n",
    "adult_permission = True\n",
    "\n",
    "if (height > 70) and (age >= 18):\n",
    "    print(\"Can ride all the roller coasters\")\n",
    "elif (height > 65) and (age >= 18):\n",
    "    print(\"Can ride moderate roller coasters\")\n",
    "elif (height > 60) and (age >= 18):\n",
    "    print(\"Can ride light roller coasters\")\n",
    "elif ((height > 50) and (age >= 18)) or ((adult_permission) and (height > 50)):\n",
    "    print(\"Can ride bumper cars\")\n",
    "else:\n",
    "    print(\"Stick to lazy river\")\n"
   ]
  },
  {
   "cell_type": "code",
   "execution_count": 25,
   "metadata": {},
   "outputs": [
    {
     "name": "stdout",
     "output_type": "stream",
     "text": [
      "Whose is our favorite employee?\n",
      "\n",
      "give me an S! (°□°)\n",
      "give me an T! (°□°)\n",
      "give me an U! (°□°)\n",
      "\n",
      "Yaaaay! STU! (╯°□°)╯︵ ┻━┻\n"
     ]
    }
   ],
   "source": [
    "name = 'stu'\n",
    "print('Whose is our favorite employee?\\n')\n",
    "for letter in name:\n",
    "    print(f'give me an {letter.upper()}! (°□°)')\n",
    "print(f'\\nYaaaay! {name.upper()}! (╯°□°)╯︵ ┻━┻')"
   ]
  },
  {
   "cell_type": "code",
   "execution_count": null,
   "metadata": {},
   "outputs": [],
   "source": [
    "\"\"\"\n",
    "How to buy or sell netflix\n",
    "\n",
    "Pseudocode to buy or sell:\n",
    "    1. Download stock data from yahoo finance.\n",
    "    2. If the stock data falls by 20% then buy. Else if the stock\n",
    "        data rises by 20% then sell.\n",
    "\n",
    "\"\"\"\n",
    "\"\"\"\n",
    "How to buy or sell netflix\n",
    "\n",
    "Pseudocode to follow price increase:\n",
    "    1. Calculate Returns over a rolling period.\n",
    "    2. Create a new array the same size as rolling returns.\n",
    "    3. If the price increases over 20% set adjacent value to 1. Else if price moves \n",
    "        down by 20% then set adjacent value to -1. Else set value to 0.\n",
    "    4. Return rolling Returns column stacked with price increase array.\n",
    "\"\"\"\n"
   ]
  },
  {
   "cell_type": "code",
   "execution_count": 23,
   "metadata": {},
   "outputs": [
    {
     "ename": "SyntaxError",
     "evalue": "unmatched ')' (<ipython-input-23-ab6e87727b52>, line 6)",
     "output_type": "error",
     "traceback": [
      "\u001b[1;36m  File \u001b[1;32m\"<ipython-input-23-ab6e87727b52>\"\u001b[1;36m, line \u001b[1;32m6\u001b[0m\n\u001b[1;33m    percent_increase = current_price - original_price)/original_price*100\u001b[0m\n\u001b[1;37m                                                     ^\u001b[0m\n\u001b[1;31mSyntaxError\u001b[0m\u001b[1;31m:\u001b[0m unmatched ')'\n"
     ]
    }
   ],
   "source": [
    "original_price = 360.35\n",
    "currrent_price = 293.33\n",
    "threshold = 20\n",
    "\n",
    "increase = current_price - original_price\n",
    "percent_increase = current_price - original_price)/original_price*100\n",
    "\n",
    "# Print original_price\n",
    "print(f\"Apple's original stock price was ${original_price}\")\n",
    "\n",
    "# Print current_price\n",
    "print(f\"Apples current stock price is ${current_price}\")\n",
    "\n",
    "# Print percent_increase\n",
    "print(f\"Apple's original stock price was {percent_increase}%\")\n",
    "\n",
    "if percent_increase > threshold:\n",
    "    print('Sell')\n",
    "elif percent_increase < threshold:\n",
    "    print('Buy')\n",
    "else:\n",
    "    print('Do nothing.')"
   ]
  },
  {
   "cell_type": "code",
   "execution_count": null,
   "metadata": {},
   "outputs": [],
   "source": []
  }
 ],
 "metadata": {
  "kernelspec": {
   "display_name": "Python 3",
   "language": "python",
   "name": "python3"
  },
  "language_info": {
   "codemirror_mode": {
    "name": "ipython",
    "version": 3
   },
   "file_extension": ".py",
   "mimetype": "text/x-python",
   "name": "python",
   "nbconvert_exporter": "python",
   "pygments_lexer": "ipython3",
   "version": "3.9.0"
  }
 },
 "nbformat": 4,
 "nbformat_minor": 4
}
